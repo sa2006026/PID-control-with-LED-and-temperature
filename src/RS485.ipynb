{
 "cells": [
  {
   "cell_type": "code",
   "execution_count": null,
   "metadata": {},
   "outputs": [],
   "source": [
    "!pip install crcmod"
   ]
  },
  {
   "cell_type": "code",
   "execution_count": null,
   "metadata": {},
   "outputs": [],
   "source": [
    "import serial\n",
    "import crcmod\n",
    "import struct\n",
    "\n",
    "# COM port configuration\n",
    "RelayCOMPort = 'COM4'"
   ]
  },
  {
   "cell_type": "code",
   "execution_count": null,
   "metadata": {},
   "outputs": [],
   "source": [
    "# Open serial port at com 8\n",
    "def openSerial(COM: str):\n",
    "    serialPort = serial.Serial(COM, 9600, timeout=1)\n",
    "    return serialPort\n",
    "\n",
    "RelayCOM = openSerial(RelayCOMPort)"
   ]
  },
  {
   "cell_type": "code",
   "execution_count": null,
   "metadata": {},
   "outputs": [],
   "source": [
    "# close serial port\n",
    "def closeSerial(serialPort: str):\n",
    "    serialPort.close()\n",
    "\n",
    "closeSerial(RelayCOMPort)"
   ]
  },
  {
   "cell_type": "code",
   "execution_count": null,
   "metadata": {},
   "outputs": [],
   "source": [
    "# seiral port write in hex\n",
    "def writeHexSerial(serialPort: str, command: str):\n",
    "    hex_command = bytes.fromhex(command)\n",
    "    serialPort.write(hex_command)\n",
    "    response = serialPort.read(serialPort.in_waiting or 1)\n",
    "    return response\n",
    "\n",
    "# all relay on command\n",
    "allRelayOn = '01 06 00 34 00 01 09 C4'\n",
    "allRelayOff = '01 06 00 34 00 00 C8 04'\n",
    "\n",
    "PWM1 = '01 06 00 77 01 F4 39 C7'"
   ]
  },
  {
   "cell_type": "code",
   "execution_count": 20,
   "metadata": {},
   "outputs": [
    {
     "name": "stdout",
     "output_type": "stream",
     "text": [
      "Response: b'?\\xc7\\xc1\\xe5\\xc0\\xe2\\xe4?\\xc7\\xe1P\\xc0\\xe2\\xe4?\\xc7\\xe1P0\\xa9\\xc8?\\xc7\\xe1P\\xc0\\xe2\\xe4'\n"
     ]
    }
   ],
   "source": [
    "import serial\n",
    "import time\n",
    "\n",
    "def writeHexSerial(port: str, baudrate: int, command: str):\n",
    "    # Convert the command string to bytes\n",
    "    hex_command = bytes.fromhex(command)\n",
    "    \n",
    "    # Open the serial port\n",
    "    with serial.Serial(port, baudrate, timeout=1) as ser:\n",
    "        # Flush any existing input/output before sending the new command\n",
    "        ser.reset_input_buffer()\n",
    "        ser.reset_output_buffer()\n",
    "        \n",
    "        # Write the command\n",
    "        ser.write(hex_command)\n",
    "        \n",
    "        # Short delay to ensure data is transmitted and response is received\n",
    "        time.sleep(2)\n",
    "        \n",
    "        # Read the response\n",
    "        response = ser.read(ser.in_waiting)\n",
    " \n",
    "        \n",
    "    # Convert the response to hexadecimal for easy comparison and return it\n",
    "    return response\n",
    "\n",
    "# Example usage\n",
    "port = \"COM4\"  # Adjust this to your serial port name (e.g., COM3 on Windows)\n",
    "baudrate = 9600  # Adjust based on your device's baud rate\n",
    "command = \"0106007701F439C7\"\n",
    "\n",
    "response = writeHexSerial(port, baudrate, command)\n",
    "print(\"Response:\", response)\n"
   ]
  },
  {
   "cell_type": "code",
   "execution_count": null,
   "metadata": {},
   "outputs": [],
   "source": [
    "def writeByteSerial(serialPort: str, command: bytes):\n",
    "    serialPort.write(command)\n",
    "    response = serialPort.read(serialPort.in_waiting or 1)\n",
    "    return response"
   ]
  },
  {
   "cell_type": "code",
   "execution_count": null,
   "metadata": {},
   "outputs": [],
   "source": [
    "response = writeHexSerial(RelayCOM, PWM1)\n",
    "print(response)"
   ]
  },
  {
   "cell_type": "code",
   "execution_count": null,
   "metadata": {},
   "outputs": [],
   "source": [
    "response = writeHexSerial(RelayCOM, allRelayOff)\n",
    "print(response) "
   ]
  },
  {
   "cell_type": "code",
   "execution_count": null,
   "metadata": {},
   "outputs": [],
   "source": [
    "# Use library to calculate CRC-16 Modbus for the last two byte of a command\n",
    "command_1 = '01 06 00 34 00 01'\n",
    "\n",
    "# Convert the command to bytes\n",
    "command_bytes = bytes.fromhex(command_1.replace(\" \", \"\"))\n",
    "\n",
    "# Define the CRC-16 Modbus function\n",
    "crc16 = crcmod.mkCrcFun(0x18005, rev=True, initCrc=0xFFFF, xorOut=0x0000)\n",
    "\n",
    "# Calculate the CRC\n",
    "crc_result = crc16(command_bytes)\n",
    "\n",
    "# reverse the bytes order\n",
    "crc_result = struct.pack(\"<H\", crc_result)\n",
    "\n",
    "# command_1b = binascii.hexlify(crc_result)\n",
    "\n",
    "# Print the result in hexadecimal\n",
    "print(crc_result.hex())"
   ]
  },
  {
   "cell_type": "code",
   "execution_count": null,
   "metadata": {},
   "outputs": [],
   "source": [
    "# practice to use string based command to obtain crc\n",
    "# combine the byte form of command with crc (byte form)\n",
    "# send out the command\n",
    "\n",
    "command_1_hex = bytes.fromhex(command_1)\n",
    "print(command_1_hex)\n",
    "full_command_1 = command_1_hex + crc_result\n",
    "print(full_command_1)\n",
    "response = writeHexSerial(RelayCOM, full_command_1.hex())"
   ]
  },
  {
   "cell_type": "code",
   "execution_count": null,
   "metadata": {},
   "outputs": [],
   "source": [
    "# practice with decimal, hex and bytes\n",
    "pos_1 = 1\n",
    "print(pos_1)\n",
    "# bytes of pos_1\n",
    "pos_1_bytes = pos_1.to_bytes(1, byteorder='big')\n",
    "print(pos_1_bytes)\n",
    "# note that the result is in hex \\x01 instead of 1\n",
    "# bytes and binary are different"
   ]
  },
  {
   "cell_type": "code",
   "execution_count": null,
   "metadata": {},
   "outputs": [],
   "source": []
  },
  {
   "cell_type": "code",
   "execution_count": null,
   "metadata": {},
   "outputs": [],
   "source": []
  }
 ],
 "metadata": {
  "kernelspec": {
   "display_name": ".env",
   "language": "python",
   "name": "python3"
  },
  "language_info": {
   "codemirror_mode": {
    "name": "ipython",
    "version": 3
   },
   "file_extension": ".py",
   "mimetype": "text/x-python",
   "name": "python",
   "nbconvert_exporter": "python",
   "pygments_lexer": "ipython3",
   "version": "3.10.6"
  }
 },
 "nbformat": 4,
 "nbformat_minor": 2
}
