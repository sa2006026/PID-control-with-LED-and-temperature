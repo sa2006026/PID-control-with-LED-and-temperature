{
 "cells": [
  {
   "cell_type": "code",
   "execution_count": null,
   "metadata": {},
   "outputs": [],
   "source": [
    "import os\n",
    "import pandas as pd"
   ]
  },
  {
   "cell_type": "code",
   "execution_count": null,
   "metadata": {},
   "outputs": [],
   "source": [
    "\n",
    "\n",
    "input_path = './Excel/108um_20W.xlsx'\n",
    "\n",
    "# Read the Excel file\n",
    "df = pd.read_excel(input_path)\n"
   ]
  },
  {
   "cell_type": "code",
   "execution_count": null,
   "metadata": {},
   "outputs": [],
   "source": [
    "filtered_df = df[(df['temperature'] > 94) | (df['temperature'] < 61)]\n",
    "print(filtered_df)"
   ]
  },
  {
   "cell_type": "code",
   "execution_count": null,
   "metadata": {},
   "outputs": [],
   "source": [
    "filtered_df['time_difference'] = filtered_df['time'].diff()\n",
    "print(filtered_df)"
   ]
  },
  {
   "cell_type": "code",
   "execution_count": null,
   "metadata": {},
   "outputs": [],
   "source": [
    "# Corrected filter to ensure no NaNs and time_difference >= 0.5\n",
    "cleaned_df = filtered_df[(filtered_df['time_difference'] >= 0.5) & (filtered_df['time_difference'].notna())]\n",
    "\n",
    "print(cleaned_df)"
   ]
  },
  {
   "cell_type": "code",
   "execution_count": null,
   "metadata": {},
   "outputs": [],
   "source": [
    "cleaned_df['calculation'] = 34 / cleaned_df['time_difference']\n",
    "\n",
    "print(cleaned_df)"
   ]
  },
  {
   "cell_type": "code",
   "execution_count": null,
   "metadata": {},
   "outputs": [],
   "source": [
    "import pandas as pd\n",
    "\n",
    "# Assuming 'cleaned_df' is your DataFrame after filtering\n",
    "# Reset the index to ensure it starts from 0 and is continuous\n",
    "cleaned_df.reset_index(drop=True, inplace=True)\n",
    "\n",
    "# Initialize the new columns with NaN\n",
    "cleaned_df['heating rate'] = pd.NA\n",
    "cleaned_df['cooling rate'] = pd.NA\n",
    "\n",
    "# Assign 'time_difference' to 'heating time' on even indices and to 'cooling rate' on odd indices\n",
    "for index, row in cleaned_df.iterrows():\n",
    "    if index % 2 == 0:  # Check if the index is even\n",
    "        cleaned_df.at[index, 'heating rate'] = row['calculation']\n",
    "    else:  # Check if the index is odd\n",
    "        cleaned_df.at[index, 'cooling rate'] = row['calculation']\n",
    "\n",
    "print(cleaned_df)\n"
   ]
  },
  {
   "cell_type": "code",
   "execution_count": null,
   "metadata": {},
   "outputs": [],
   "source": [
    "# # Drop rows only if both 'heating rate' and 'cooling rate' are NA\n",
    "# cleaned_df.dropna(subset=['heating rate', 'cooling rate'], how='all', inplace=True)\n",
    "\n",
    "# # Replace NA in both columns with a placeholder, e.g., 0\n",
    "# cleaned_df['heating rate'].fillna(0, inplace=True)\n",
    "# cleaned_df['cooling rate'].fillna(0, inplace=True)\n",
    "\n",
    "# # Create a combined metric example\n",
    "# cleaned_df['combined rate'] = cleaned_df['heating rate'].fillna(0) + cleaned_df['cooling rate'].fillna(0)\n",
    "\n",
    "\n",
    "# print(cleaned_df)"
   ]
  },
  {
   "cell_type": "code",
   "execution_count": null,
   "metadata": {},
   "outputs": [],
   "source": [
    "\n",
    "# Extract the base name without extension\n",
    "base_name = os.path.splitext(os.path.basename(input_path))[0]\n",
    "\n",
    "# Create a new output filename using the base name\n",
    "output_path = f'./Excel/{base_name}_output.xlsx'\n",
    "\n",
    "# Write the cleaned dataframe to a new Excel file\n",
    "cleaned_df.to_excel(output_path, index=False, engine='openpyxl')"
   ]
  },
  {
   "cell_type": "code",
   "execution_count": null,
   "metadata": {},
   "outputs": [],
   "source": [
    "# cleaned_df['heating rate'] = cleaned_df[(cleaned_df['calculation'] >= 5)]\n",
    "\n",
    "# print(cleaned_df)"
   ]
  }
 ],
 "metadata": {
  "kernelspec": {
   "display_name": ".env",
   "language": "python",
   "name": "python3"
  },
  "language_info": {
   "codemirror_mode": {
    "name": "ipython",
    "version": 3
   },
   "file_extension": ".py",
   "mimetype": "text/x-python",
   "name": "python",
   "nbconvert_exporter": "python",
   "pygments_lexer": "ipython3",
   "version": "3.10.6"
  }
 },
 "nbformat": 4,
 "nbformat_minor": 2
}
